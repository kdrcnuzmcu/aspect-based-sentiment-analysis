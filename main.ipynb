{
 "cells": [
  {
   "cell_type": "code",
   "execution_count": null,
   "id": "ceaeb982",
   "metadata": {},
   "outputs": [],
   "source": [
    "!pip install vaderSentiment"
   ]
  },
  {
   "cell_type": "code",
   "execution_count": null,
   "id": "b821dd30",
   "metadata": {},
   "outputs": [],
   "source": [
    "!pip install spacy"
   ]
  },
  {
   "cell_type": "code",
   "execution_count": null,
   "id": "c085fe7e",
   "metadata": {},
   "outputs": [],
   "source": [
    "!pip install turkishnlp"
   ]
  },
  {
   "cell_type": "code",
   "execution_count": 26,
   "id": "1659aab3",
   "metadata": {
    "collapsed": true
   },
   "outputs": [
    {
     "name": "stdout",
     "output_type": "stream",
     "text": [
      "Defaulting to user installation because normal site-packages is not writeable\n",
      "Collecting transformers\n",
      "  Downloading transformers-4.30.2-py3-none-any.whl (7.2 MB)\n",
      "     ---------------------------------------- 7.2/7.2 MB 7.4 MB/s eta 0:00:00\n",
      "Requirement already satisfied: filelock in c:\\programdata\\anaconda3\\lib\\site-packages (from transformers) (3.6.0)\n",
      "Collecting safetensors>=0.3.1\n",
      "  Downloading safetensors-0.3.1-cp39-cp39-win_amd64.whl (263 kB)\n",
      "     -------------------------------------- 263.9/263.9 kB 8.2 MB/s eta 0:00:00\n",
      "Requirement already satisfied: tqdm>=4.27 in c:\\programdata\\anaconda3\\lib\\site-packages (from transformers) (4.64.1)\n",
      "Requirement already satisfied: regex!=2019.12.17 in c:\\programdata\\anaconda3\\lib\\site-packages (from transformers) (2022.7.9)\n",
      "Requirement already satisfied: requests in c:\\programdata\\anaconda3\\lib\\site-packages (from transformers) (2.28.1)\n",
      "Requirement already satisfied: pyyaml>=5.1 in c:\\programdata\\anaconda3\\lib\\site-packages (from transformers) (6.0)\n",
      "Collecting tokenizers!=0.11.3,<0.14,>=0.11.1\n",
      "  Downloading tokenizers-0.13.3-cp39-cp39-win_amd64.whl (3.5 MB)\n",
      "     ---------------------------------------- 3.5/3.5 MB 4.0 MB/s eta 0:00:00\n",
      "Requirement already satisfied: numpy>=1.17 in c:\\programdata\\anaconda3\\lib\\site-packages (from transformers) (1.21.5)\n",
      "Collecting huggingface-hub<1.0,>=0.14.1\n",
      "  Downloading huggingface_hub-0.15.1-py3-none-any.whl (236 kB)\n",
      "     -------------------------------------- 236.8/236.8 kB 3.6 MB/s eta 0:00:00\n",
      "Requirement already satisfied: packaging>=20.0 in c:\\programdata\\anaconda3\\lib\\site-packages (from transformers) (21.3)\n",
      "Requirement already satisfied: fsspec in c:\\programdata\\anaconda3\\lib\\site-packages (from huggingface-hub<1.0,>=0.14.1->transformers) (2022.7.1)\n",
      "Requirement already satisfied: typing-extensions>=3.7.4.3 in c:\\programdata\\anaconda3\\lib\\site-packages (from huggingface-hub<1.0,>=0.14.1->transformers) (4.3.0)\n",
      "Requirement already satisfied: pyparsing!=3.0.5,>=2.0.2 in c:\\programdata\\anaconda3\\lib\\site-packages (from packaging>=20.0->transformers) (3.0.9)\n",
      "Requirement already satisfied: colorama in c:\\users\\kdrcn\\appdata\\roaming\\python\\python39\\site-packages (from tqdm>=4.27->transformers) (0.4.6)\n",
      "Requirement already satisfied: urllib3<1.27,>=1.21.1 in c:\\programdata\\anaconda3\\lib\\site-packages (from requests->transformers) (1.26.11)\n",
      "Requirement already satisfied: idna<4,>=2.5 in c:\\programdata\\anaconda3\\lib\\site-packages (from requests->transformers) (3.3)\n",
      "Requirement already satisfied: charset-normalizer<3,>=2 in c:\\programdata\\anaconda3\\lib\\site-packages (from requests->transformers) (2.0.4)\n",
      "Requirement already satisfied: certifi>=2017.4.17 in c:\\programdata\\anaconda3\\lib\\site-packages (from requests->transformers) (2022.9.14)\n",
      "Installing collected packages: tokenizers, safetensors, huggingface-hub, transformers\n",
      "Successfully installed huggingface-hub-0.15.1 safetensors-0.3.1 tokenizers-0.13.3 transformers-4.30.2\n"
     ]
    },
    {
     "name": "stderr",
     "output_type": "stream",
     "text": [
      "  WARNING: The script huggingface-cli.exe is installed in 'C:\\Users\\kdrcn\\AppData\\Roaming\\Python\\Python39\\Scripts' which is not on PATH.\n",
      "  Consider adding this directory to PATH or, if you prefer to suppress this warning, use --no-warn-script-location.\n",
      "  WARNING: The script transformers-cli.exe is installed in 'C:\\Users\\kdrcn\\AppData\\Roaming\\Python\\Python39\\Scripts' which is not on PATH.\n",
      "  Consider adding this directory to PATH or, if you prefer to suppress this warning, use --no-warn-script-location.\n"
     ]
    }
   ],
   "source": [
    "!pip install transformers"
   ]
  },
  {
   "cell_type": "code",
   "execution_count": 40,
   "id": "dff8576c",
   "metadata": {
    "collapsed": true
   },
   "outputs": [
    {
     "name": "stdout",
     "output_type": "stream",
     "text": [
      "Defaulting to user installation because normal site-packages is not writeable\n",
      "Collecting torch\n",
      "  Downloading torch-2.0.1-cp39-cp39-win_amd64.whl (172.4 MB)\n",
      "     -------------------------------------- 172.4/172.4 MB 4.7 MB/s eta 0:00:00\n",
      "Requirement already satisfied: networkx in c:\\programdata\\anaconda3\\lib\\site-packages (from torch) (2.8.4)\n",
      "Requirement already satisfied: jinja2 in c:\\programdata\\anaconda3\\lib\\site-packages (from torch) (2.11.3)\n",
      "Requirement already satisfied: typing-extensions in c:\\programdata\\anaconda3\\lib\\site-packages (from torch) (4.3.0)\n",
      "Requirement already satisfied: sympy in c:\\programdata\\anaconda3\\lib\\site-packages (from torch) (1.10.1)\n",
      "Requirement already satisfied: filelock in c:\\programdata\\anaconda3\\lib\\site-packages (from torch) (3.6.0)\n",
      "Requirement already satisfied: MarkupSafe>=0.23 in c:\\programdata\\anaconda3\\lib\\site-packages (from jinja2->torch) (2.0.1)\n",
      "Requirement already satisfied: mpmath>=0.19 in c:\\programdata\\anaconda3\\lib\\site-packages (from sympy->torch) (1.2.1)\n",
      "Installing collected packages: torch\n",
      "Successfully installed torch-2.0.1\n"
     ]
    },
    {
     "name": "stderr",
     "output_type": "stream",
     "text": [
      "  WARNING: The scripts convert-caffe2-to-onnx.exe, convert-onnx-to-caffe2.exe and torchrun.exe are installed in 'C:\\Users\\kdrcn\\AppData\\Roaming\\Python\\Python39\\Scripts' which is not on PATH.\n",
      "  Consider adding this directory to PATH or, if you prefer to suppress this warning, use --no-warn-script-location.\n"
     ]
    }
   ],
   "source": [
    "!pip install torch"
   ]
  },
  {
   "cell_type": "code",
   "execution_count": 42,
   "id": "8ff18add",
   "metadata": {},
   "outputs": [],
   "source": [
    "import pandas as pd\n",
    "import re\n",
    "import os\n",
    "import sys\n",
    "import spacy\n",
    "from sklearn.preprocessing import LabelEncoder\n",
    "\n",
    "import nltk\n",
    "from nltk.corpus import stopwords\n",
    "from nltk import sent_tokenize\n",
    "from nltk import word_tokenize\n",
    "from nltk.stem import WordNetLemmatizer\n",
    "from nltk.stem import SnowballStemmer\n",
    "from nltk.sentiment import SentimentIntensityAnalyzer\n",
    "\n",
    "from textblob import TextBlob\n",
    "from textblob import Word\n",
    "\n",
    "from vaderSentiment import vaderSentiment\n",
    "from vaderSentiment.vaderSentiment import SentimentIntensityAnalyzer"
   ]
  },
  {
   "cell_type": "markdown",
   "id": "50dbe03e",
   "metadata": {},
   "source": [
    "---"
   ]
  },
  {
   "cell_type": "code",
   "execution_count": 2,
   "id": "c833ae59",
   "metadata": {},
   "outputs": [],
   "source": [
    "sw = set(stopwords.words(\"turkish\"))"
   ]
  },
  {
   "cell_type": "code",
   "execution_count": 3,
   "id": "307c97dc",
   "metadata": {
    "collapsed": true
   },
   "outputs": [
    {
     "name": "stderr",
     "output_type": "stream",
     "text": [
      "C:\\Users\\kdrcn\\AppData\\Local\\Temp\\ipykernel_13160\\2475433900.py:1: FutureWarning: Passing a negative integer is deprecated in version 1.0 and will not be supported in future version. Instead, use None to not limit the column width.\n",
      "  pd.set_option(\"display.max_colwidth\", -1)\n"
     ]
    }
   ],
   "source": [
    "pd.set_option(\"display.max_colwidth\", -1)"
   ]
  },
  {
   "cell_type": "code",
   "execution_count": 4,
   "id": "8b13413d",
   "metadata": {
    "collapsed": true
   },
   "outputs": [
    {
     "name": "stderr",
     "output_type": "stream",
     "text": [
      "[nltk_data] Downloading package stopwords to\n",
      "[nltk_data]     C:\\Users\\kdrcn\\AppData\\Roaming\\nltk_data...\n",
      "[nltk_data]   Package stopwords is already up-to-date!\n",
      "[nltk_data] Downloading package wordnet to\n",
      "[nltk_data]     C:\\Users\\kdrcn\\AppData\\Roaming\\nltk_data...\n",
      "[nltk_data]   Package wordnet is already up-to-date!\n",
      "[nltk_data] Downloading package omw-1.4 to\n",
      "[nltk_data]     C:\\Users\\kdrcn\\AppData\\Roaming\\nltk_data...\n",
      "[nltk_data]   Package omw-1.4 is already up-to-date!\n",
      "[nltk_data] Downloading package punkt to\n",
      "[nltk_data]     C:\\Users\\kdrcn\\AppData\\Roaming\\nltk_data...\n",
      "[nltk_data]   Package punkt is already up-to-date!\n"
     ]
    },
    {
     "data": {
      "text/plain": [
       "True"
      ]
     },
     "execution_count": 4,
     "metadata": {},
     "output_type": "execute_result"
    }
   ],
   "source": [
    "nltk.download(\"stopwords\")\n",
    "nltk.download(\"wordnet\")\n",
    "nltk.download(\"omw-1.4\")\n",
    "nltk.download(\"punkt\")"
   ]
  },
  {
   "cell_type": "code",
   "execution_count": 5,
   "id": "b42d118f",
   "metadata": {},
   "outputs": [],
   "source": [
    "path = \"128.turkish/restaurants_train_turkish.xml.dat\""
   ]
  },
  {
   "cell_type": "markdown",
   "id": "4f0b00ac",
   "metadata": {},
   "source": [
    "---"
   ]
  },
  {
   "cell_type": "code",
   "execution_count": 6,
   "id": "8734ac8d",
   "metadata": {},
   "outputs": [],
   "source": [
    "with open(path, \"r\", encoding=\"utf-8\") as file:\n",
    "    text = file.read()\n",
    "    file.close()\n",
    "data = pd.DataFrame({\"Text\": text.split(\"\\n\"), \"Tag\": \"Text\"})"
   ]
  },
  {
   "cell_type": "code",
   "execution_count": 7,
   "id": "45acdc05",
   "metadata": {},
   "outputs": [],
   "source": [
    "sentiment_index = data[data[\"Text\"].isin([\"Positive\", \"Negative\", \"Neutral\"])].index\n",
    "data.loc[sentiment_index, \"Tag\"] = \"Sentiment\"\n",
    "data.loc[sentiment_index-1, \"Tag\"] = \"Aspect\"\n",
    "df = pd.DataFrame({\"Phrase\": data[data[\"Tag\"] == \"Text\"][\"Text\"].reset_index(drop=True), \n",
    "                   \"Aspect\": data[data[\"Tag\"] == \"Aspect\"][\"Text\"].reset_index(drop=True), \n",
    "                   \"Sentiment\": data[data[\"Tag\"] == \"Sentiment\"][\"Text\"].reset_index(drop=True)})\n",
    "df = df.drop(1385, axis=0)"
   ]
  },
  {
   "cell_type": "code",
   "execution_count": null,
   "id": "654f132b",
   "metadata": {},
   "outputs": [],
   "source": [
    "df.head()"
   ]
  },
  {
   "cell_type": "markdown",
   "id": "30f70448",
   "metadata": {},
   "source": [
    "---"
   ]
  },
  {
   "cell_type": "code",
   "execution_count": 8,
   "id": "44e9b649",
   "metadata": {},
   "outputs": [],
   "source": [
    "train = df.copy()"
   ]
  },
  {
   "cell_type": "code",
   "execution_count": 9,
   "id": "8f3e78b0",
   "metadata": {},
   "outputs": [],
   "source": [
    "for index, row in train.iterrows():\n",
    "    words = TextBlob(row[\"Phrase\"]).words\n",
    "    aspect = words.index(\"T\")\n",
    "    words[aspect] = row[\"Aspect\"]\n",
    "    row[\"Phrase\"] = \" \".join(words)"
   ]
  },
  {
   "cell_type": "code",
   "execution_count": 10,
   "id": "2aef1f8e",
   "metadata": {},
   "outputs": [],
   "source": [
    "train[\"Phrase\"] = train[\"Phrase\"].apply(lambda x: \" \".join(x.lower() for x in x.split()))\n",
    "train[\"Aspect\"] = train[\"Aspect\"].apply(lambda x: \" \".join(x.lower() for x in x.split()))\n",
    "\n",
    "train[\"Phrase\"] = train[\"Phrase\"].apply(lambda x: \" \".join(re.sub(\"[^\\w\\s]\", \"\", x) for x in x.split()))\n",
    "train[\"Aspect\"] = train[\"Aspect\"].apply(lambda x: \" \".join(re.sub(\"[^\\w\\s]\", \"\", x) for x in x.split()))\n",
    "\n",
    "train[\"Phrase\"] = train[\"Phrase\"].apply(lambda x: \" \".join(re.sub(\"\\d\", \"\", x) for x in x.split()))\n",
    "train[\"Aspect\"] = train[\"Aspect\"].apply(lambda x: \" \".join(re.sub(\"\\d\", \"\", x) for x in x.split()))\n",
    "\n",
    "train[\"Phrase\"] = train[\"Phrase\"].apply(lambda x: \" \".join(x for x in x.split() if x not in sw))\n",
    "# train[\"Phrase\"] = train[\"Phrase\"].apply(lambda x: \" \".join([Word(word).lemmatize() for word in x.split()]))"
   ]
  },
  {
   "cell_type": "code",
   "execution_count": 50,
   "id": "6cd02a90",
   "metadata": {},
   "outputs": [],
   "source": [
    "LE = LabelEncoder()\n",
    "train[\"Labels\"] = LE.fit_transform(train[\"Sentiment\"])"
   ]
  },
  {
   "cell_type": "code",
   "execution_count": 47,
   "id": "9729c9da",
   "metadata": {
    "collapsed": true
   },
   "outputs": [
    {
     "data": {
      "text/html": [
       "<div>\n",
       "<style scoped>\n",
       "    .dataframe tbody tr th:only-of-type {\n",
       "        vertical-align: middle;\n",
       "    }\n",
       "\n",
       "    .dataframe tbody tr th {\n",
       "        vertical-align: top;\n",
       "    }\n",
       "\n",
       "    .dataframe thead th {\n",
       "        text-align: right;\n",
       "    }\n",
       "</style>\n",
       "<table border=\"1\" class=\"dataframe\">\n",
       "  <thead>\n",
       "    <tr style=\"text-align: right;\">\n",
       "      <th></th>\n",
       "      <th>Phrase</th>\n",
       "      <th>Aspect</th>\n",
       "      <th>Sentiment</th>\n",
       "    </tr>\n",
       "  </thead>\n",
       "  <tbody>\n",
       "    <tr>\n",
       "      <th>0</th>\n",
       "      <td>manzara sahane evet servis rezalet</td>\n",
       "      <td>manzara</td>\n",
       "      <td>Positive</td>\n",
       "    </tr>\n",
       "    <tr>\n",
       "      <th>1</th>\n",
       "      <td>manzara sahane evet servis rezalet</td>\n",
       "      <td>servis</td>\n",
       "      <td>Negative</td>\n",
       "    </tr>\n",
       "    <tr>\n",
       "      <th>2</th>\n",
       "      <td>soguk su isteyince soguk yok butun sulari disari cikardik diyen garson siparisten tam saat sonra gelen yemekler yemegin yaninda soylenen roka pureden eser olmamasi istedigimiz mezenin kalmamis olmasi</td>\n",
       "      <td>mezenin</td>\n",
       "      <td>Negative</td>\n",
       "    </tr>\n",
       "    <tr>\n",
       "      <th>3</th>\n",
       "      <td>soguk su isteyince soguk yok butun sulari disari cikardik diyen garson siparisten tam saat sonra gelen yemekler yemegin yaninda soylenen roka pureden eser olmamasi istedigimiz mezenin kalmamis olmasi</td>\n",
       "      <td>garson</td>\n",
       "      <td>Negative</td>\n",
       "    </tr>\n",
       "    <tr>\n",
       "      <th>4</th>\n",
       "      <td>yemekler iyi hos lezzetler iyi heyecan verici bi taraflari yok iyi bir baligi iyi bir sekilde izgara yapmak artik atla deve bi olay degil</td>\n",
       "      <td>yemekler</td>\n",
       "      <td>Positive</td>\n",
       "    </tr>\n",
       "    <tr>\n",
       "      <th>5</th>\n",
       "      <td>yemekler iyi hos lezzetler iyi heyecan verici bi taraflari yok iyi bir baligi iyi bir sekilde izgara yapmak artik atla deve bi olay degil</td>\n",
       "      <td>lezzetler</td>\n",
       "      <td>Positive</td>\n",
       "    </tr>\n",
       "    <tr>\n",
       "      <th>6</th>\n",
       "      <td>servise fiyatlar cok fazla</td>\n",
       "      <td>fiyatlar</td>\n",
       "      <td>Negative</td>\n",
       "    </tr>\n",
       "    <tr>\n",
       "      <th>7</th>\n",
       "      <td>lacivert beni kalitesinin dusukluguyle cok sasirtti</td>\n",
       "      <td>kalitesinin</td>\n",
       "      <td>Negative</td>\n",
       "    </tr>\n",
       "    <tr>\n",
       "      <th>8</th>\n",
       "      <td>buraya kadar iyi yorum yapanlar halde önce balik yemediler</td>\n",
       "      <td>balik</td>\n",
       "      <td>Negative</td>\n",
       "    </tr>\n",
       "    <tr>\n",
       "      <th>9</th>\n",
       "      <td>kalamardan koladan önce balik geldi apar topar önümüze atildi</td>\n",
       "      <td>balik geldi</td>\n",
       "      <td>Negative</td>\n",
       "    </tr>\n",
       "    <tr>\n",
       "      <th>10</th>\n",
       "      <td>ayrica gelen kalamar soguk sünger gibiydi</td>\n",
       "      <td>kalamar</td>\n",
       "      <td>Negative</td>\n",
       "    </tr>\n",
       "    <tr>\n",
       "      <th>11</th>\n",
       "      <td>önce söyledigim büyüdükçe kalitesi düsen yerlerden</td>\n",
       "      <td>kalitesi</td>\n",
       "      <td>Negative</td>\n",
       "    </tr>\n",
       "    <tr>\n",
       "      <th>12</th>\n",
       "      <td>kesinlikle ev yemegi degil kadar basarisiz ev yemekleri olmasina ragmen ögle saatlerinde yogunlugu çözebilmis degilim</td>\n",
       "      <td>ev yemegi</td>\n",
       "      <td>Negative</td>\n",
       "    </tr>\n",
       "    <tr>\n",
       "      <th>13</th>\n",
       "      <td>insanlar gerçekten ev yemeginin nasil oldugunu bilmiyorlar</td>\n",
       "      <td>ev yemeginin</td>\n",
       "      <td>Negative</td>\n",
       "    </tr>\n",
       "    <tr>\n",
       "      <th>14</th>\n",
       "      <td>kere denedigim fiyatlarinin yüksek yemeklerinin lezzetsiz oldugu bir mekan önermiyorum</td>\n",
       "      <td>fiyatlarinin</td>\n",
       "      <td>Negative</td>\n",
       "    </tr>\n",
       "    <tr>\n",
       "      <th>15</th>\n",
       "      <td>kere denedigim fiyatlarinin yüksek yemeklerinin lezzetsiz oldugu bir mekan önermiyorum</td>\n",
       "      <td>yemeklerinin</td>\n",
       "      <td>Negative</td>\n",
       "    </tr>\n",
       "    <tr>\n",
       "      <th>16</th>\n",
       "      <td>mekanın girişinde kasap reyonu ışıltılı sıcak bir ortam yaratılmaya çalışılmış manzara olmadığı bulunduğu konumda pek samimi bulmadım</td>\n",
       "      <td>kasap reyonu</td>\n",
       "      <td>Negative</td>\n",
       "    </tr>\n",
       "    <tr>\n",
       "      <th>17</th>\n",
       "      <td>garsonumuz ilgisizdi söyledikce yaptı buda benim restauranttan beklentimi zayıflatıyor</td>\n",
       "      <td>garsonumuz</td>\n",
       "      <td>Negative</td>\n",
       "    </tr>\n",
       "    <tr>\n",
       "      <th>18</th>\n",
       "      <td>lokumun iyisini yedim küşleme güzeldi</td>\n",
       "      <td>lokumun</td>\n",
       "      <td>Neutral</td>\n",
       "    </tr>\n",
       "    <tr>\n",
       "      <th>19</th>\n",
       "      <td>lokumun iyisini yedim küşleme güzeldi</td>\n",
       "      <td>küşleme</td>\n",
       "      <td>Positive</td>\n",
       "    </tr>\n",
       "  </tbody>\n",
       "</table>\n",
       "</div>"
      ],
      "text/plain": [
       "                                                                                                                                                                                                     Phrase  \\\n",
       "0   manzara sahane evet servis rezalet                                                                                                                                                                        \n",
       "1   manzara sahane evet servis rezalet                                                                                                                                                                        \n",
       "2   soguk su isteyince soguk yok butun sulari disari cikardik diyen garson siparisten tam saat sonra gelen yemekler yemegin yaninda soylenen roka pureden eser olmamasi istedigimiz mezenin kalmamis olmasi   \n",
       "3   soguk su isteyince soguk yok butun sulari disari cikardik diyen garson siparisten tam saat sonra gelen yemekler yemegin yaninda soylenen roka pureden eser olmamasi istedigimiz mezenin kalmamis olmasi   \n",
       "4   yemekler iyi hos lezzetler iyi heyecan verici bi taraflari yok iyi bir baligi iyi bir sekilde izgara yapmak artik atla deve bi olay degil                                                                 \n",
       "5   yemekler iyi hos lezzetler iyi heyecan verici bi taraflari yok iyi bir baligi iyi bir sekilde izgara yapmak artik atla deve bi olay degil                                                                 \n",
       "6   servise fiyatlar cok fazla                                                                                                                                                                                \n",
       "7   lacivert beni kalitesinin dusukluguyle cok sasirtti                                                                                                                                                       \n",
       "8   buraya kadar iyi yorum yapanlar halde önce balik yemediler                                                                                                                                                \n",
       "9   kalamardan koladan önce balik geldi apar topar önümüze atildi                                                                                                                                             \n",
       "10  ayrica gelen kalamar soguk sünger gibiydi                                                                                                                                                                 \n",
       "11  önce söyledigim büyüdükçe kalitesi düsen yerlerden                                                                                                                                                        \n",
       "12  kesinlikle ev yemegi degil kadar basarisiz ev yemekleri olmasina ragmen ögle saatlerinde yogunlugu çözebilmis degilim                                                                                     \n",
       "13  insanlar gerçekten ev yemeginin nasil oldugunu bilmiyorlar                                                                                                                                                \n",
       "14  kere denedigim fiyatlarinin yüksek yemeklerinin lezzetsiz oldugu bir mekan önermiyorum                                                                                                                    \n",
       "15  kere denedigim fiyatlarinin yüksek yemeklerinin lezzetsiz oldugu bir mekan önermiyorum                                                                                                                    \n",
       "16  mekanın girişinde kasap reyonu ışıltılı sıcak bir ortam yaratılmaya çalışılmış manzara olmadığı bulunduğu konumda pek samimi bulmadım                                                                     \n",
       "17  garsonumuz ilgisizdi söyledikce yaptı buda benim restauranttan beklentimi zayıflatıyor                                                                                                                    \n",
       "18  lokumun iyisini yedim küşleme güzeldi                                                                                                                                                                     \n",
       "19  lokumun iyisini yedim küşleme güzeldi                                                                                                                                                                     \n",
       "\n",
       "          Aspect Sentiment  \n",
       "0   manzara       Positive  \n",
       "1   servis        Negative  \n",
       "2   mezenin       Negative  \n",
       "3   garson        Negative  \n",
       "4   yemekler      Positive  \n",
       "5   lezzetler     Positive  \n",
       "6   fiyatlar      Negative  \n",
       "7   kalitesinin   Negative  \n",
       "8   balik         Negative  \n",
       "9   balik geldi   Negative  \n",
       "10  kalamar       Negative  \n",
       "11  kalitesi      Negative  \n",
       "12  ev yemegi     Negative  \n",
       "13  ev yemeginin  Negative  \n",
       "14  fiyatlarinin  Negative  \n",
       "15  yemeklerinin  Negative  \n",
       "16  kasap reyonu  Negative  \n",
       "17  garsonumuz    Negative  \n",
       "18  lokumun       Neutral   \n",
       "19  küşleme       Positive  "
      ]
     },
     "execution_count": 47,
     "metadata": {},
     "output_type": "execute_result"
    }
   ],
   "source": [
    "train.head(20)"
   ]
  },
  {
   "cell_type": "code",
   "execution_count": 11,
   "id": "1d3c7ee5",
   "metadata": {},
   "outputs": [],
   "source": [
    "import string\n",
    "from nltk import word_tokenize\n",
    "from nltk.corpus import stopwords\n",
    "from collections import Counter"
   ]
  },
  {
   "cell_type": "code",
   "execution_count": 12,
   "id": "de7506a1",
   "metadata": {},
   "outputs": [],
   "source": [
    "stop_words = stopwords.words(\"turkish\")\n",
    "stop_words.extend([\"bir\", \"icin\"])"
   ]
  },
  {
   "cell_type": "code",
   "execution_count": 13,
   "id": "e6ff1e56",
   "metadata": {},
   "outputs": [],
   "source": [
    "exclude = set(string.punctuation)\n",
    "train_pos = train[train[\"Sentiment\"] == \"Positive\"]\n",
    "token_list = []\n",
    "for index, row in train_pos.iterrows():\n",
    "    text = \"\".join(x for x in train_pos[\"Phrase\"][index] if x not in  exclude and x != \"’\")\n",
    "    tokens = word_tokenize(text)\n",
    "    tokens = [tok.lower() for tok in tokens if tok not in stop_words]\n",
    "    token_list.extend(tokens)\n",
    "    \n",
    "frequencies = Counter(token_list)\n",
    "frequencies_sorted = sorted(frequencies.items(), key=lambda x: x[1], reverse=True)\n",
    "top_15 = dict(frequencies_sorted[0:15])"
   ]
  },
  {
   "cell_type": "code",
   "execution_count": 14,
   "id": "05b9871a",
   "metadata": {
    "collapsed": true
   },
   "outputs": [
    {
     "data": {
      "text/plain": [
       "{'güzel': 133,\n",
       " 'mekan': 107,\n",
       " 'iyi': 82,\n",
       " 'lezzetli': 64,\n",
       " 'cok': 56,\n",
       " 'servis': 50,\n",
       " 'yemekler': 50,\n",
       " 'manzara': 41,\n",
       " 'var': 40,\n",
       " 'guzel': 39,\n",
       " 'yer': 39,\n",
       " 'uygun': 38,\n",
       " 'yemekleri': 36,\n",
       " 'kadar': 34,\n",
       " 'olarak': 34}"
      ]
     },
     "execution_count": 14,
     "metadata": {},
     "output_type": "execute_result"
    }
   ],
   "source": [
    "top_15"
   ]
  },
  {
   "cell_type": "code",
   "execution_count": 15,
   "id": "b57f0100",
   "metadata": {},
   "outputs": [],
   "source": [
    "exclude = set(string.punctuation)\n",
    "train_neg = train[train[\"Sentiment\"] == \"Negative\"]\n",
    "token_list = []\n",
    "for index, row in train_neg.iterrows():\n",
    "    text = \"\".join(x for x in train_neg[\"Phrase\"][index] if x not in  exclude and x != \"’\")\n",
    "    tokens = word_tokenize(text)\n",
    "    tokens = [tok.lower() for tok in tokens if tok not in stop_words]\n",
    "    token_list.extend(tokens)\n",
    "    \n",
    "frequencies = Counter(token_list)\n",
    "frequencies_sorted = sorted(frequencies.items(), key=lambda x: x[1], reverse=True)\n",
    "top_15 = dict(frequencies_sorted[0:15])"
   ]
  },
  {
   "cell_type": "code",
   "execution_count": 16,
   "id": "27b19cbd",
   "metadata": {
    "collapsed": true
   },
   "outputs": [
    {
     "data": {
      "text/plain": [
       "{'servis': 65,\n",
       " 'yer': 49,\n",
       " 'mekan': 43,\n",
       " 'yok': 40,\n",
       " 'degil': 39,\n",
       " 'kadar': 37,\n",
       " 'güzel': 35,\n",
       " 'cok': 34,\n",
       " 'yemek': 26,\n",
       " 'manzara': 25,\n",
       " 'iyi': 24,\n",
       " 'biraz': 24,\n",
       " 'var': 23,\n",
       " 'kötü': 22,\n",
       " 'fazla': 20}"
      ]
     },
     "execution_count": 16,
     "metadata": {},
     "output_type": "execute_result"
    }
   ],
   "source": [
    "top_15"
   ]
  },
  {
   "cell_type": "code",
   "execution_count": 20,
   "id": "b7164f54",
   "metadata": {},
   "outputs": [
    {
     "data": {
      "text/plain": [
       "{('tavsiye', 'ederim'): 10,\n",
       " ('servis', 'hızlı'): 10,\n",
       " ('güler', 'yüzlü'): 9,\n",
       " ('son', 'derece'): 9,\n",
       " ('şahane', 'manzarası'): 8,\n",
       " ('bunun', 'haricinde'): 7,\n",
       " ('manzara', 'güzel'): 7,\n",
       " ('cok', 'guzel'): 7,\n",
       " ('gayet', 'uygun'): 7,\n",
       " ('mudavimi', 'oldugum'): 7,\n",
       " ('oldugum', 'diger'): 7,\n",
       " ('diger', 'mekanim'): 7,\n",
       " ('mekanim', 'ascisi'): 7,\n",
       " ('ascisi', 'super'): 7,\n",
       " ('super', 'yemekler'): 7}"
      ]
     },
     "execution_count": 20,
     "metadata": {},
     "output_type": "execute_result"
    }
   ],
   "source": [
    "from nltk.util import ngrams\n",
    "token_list = []\n",
    "for index, row in train_pos.iterrows():\n",
    "    text = \"\".join(x for x in train_pos[\"Phrase\"][index] if x not in exclude and x != \"’\")\n",
    "    tokens = word_tokenize(text)\n",
    "    tokens = [x.lower() for x in tokens if x not in stop_words]\n",
    "    token_list.extend(tokens)\n",
    "    \n",
    "bigrams = list(ngrams(token_list, 2))\n",
    "frequencies = Counter(bigrams)\n",
    "frequencies_sorted = sorted(frequencies.items(), key=lambda x: x[1], reverse=True)\n",
    "top_15 = dict(frequencies_sorted[0:15])\n",
    "top_15"
   ]
  },
  {
   "cell_type": "code",
   "execution_count": 21,
   "id": "83216f7e",
   "metadata": {},
   "outputs": [
    {
     "data": {
      "text/plain": [
       "{('uygun', 'degil'): 7,\n",
       " ('yer', 'degil'): 6,\n",
       " ('gereksiz', 'yer'): 6,\n",
       " ('basarili', 'bulmuyorum'): 6,\n",
       " ('patates', 'kizartmasi'): 5,\n",
       " ('servis', 'eden'): 5,\n",
       " ('fakat', 'servis'): 5,\n",
       " ('hayal', 'kirikligi'): 5,\n",
       " ('guzel', 'degil'): 5,\n",
       " ('kadar', 'kötü'): 5,\n",
       " ('saat', 'sonra'): 4,\n",
       " ('cok', 'fazla'): 4,\n",
       " ('big', 'chefs'): 4,\n",
       " ('olan', 'mekan'): 4,\n",
       " ('fiyatlar', 'pahalı'): 4}"
      ]
     },
     "execution_count": 21,
     "metadata": {},
     "output_type": "execute_result"
    }
   ],
   "source": [
    "from nltk.util import ngrams\n",
    "token_list = []\n",
    "for index, row in train_neg.iterrows():\n",
    "    text = \"\".join(x for x in train_neg[\"Phrase\"][index] if x not in exclude and x != \"’\")\n",
    "    tokens = word_tokenize(text)\n",
    "    tokens = [x.lower() for x in tokens if x not in stop_words]\n",
    "    token_list.extend(tokens)\n",
    "    \n",
    "bigrams = list(ngrams(token_list, 2))\n",
    "frequencies = Counter(bigrams)\n",
    "frequencies_sorted = sorted(frequencies.items(), key=lambda x: x[1], reverse=True)\n",
    "top_15 = dict(frequencies_sorted[0:15])\n",
    "top_15"
   ]
  },
  {
   "cell_type": "code",
   "execution_count": 51,
   "id": "667a234e",
   "metadata": {},
   "outputs": [],
   "source": [
    "phrases = train[\"Phrase\"].values\n",
    "labels = train[\"Labels\"].values"
   ]
  },
  {
   "cell_type": "code",
   "execution_count": 35,
   "id": "3606d0ad",
   "metadata": {},
   "outputs": [
    {
     "data": {
      "text/plain": [
       "array(['manzara sahane evet servis rezalet',\n",
       "       'manzara sahane evet servis rezalet',\n",
       "       'soguk su isteyince soguk yok butun sulari disari cikardik diyen garson siparisten tam saat sonra gelen yemekler yemegin yaninda soylenen roka pureden eser olmamasi istedigimiz mezenin kalmamis olmasi',\n",
       "       ...,\n",
       "       'üzerine bal fındık dökülmüş sütlaçları cezbedici gözükse sütlaç tadını alamadım muhallebi gibiydi',\n",
       "       'ayrıca hergun çıkardıkları farklı zeytinyağlı yemekleri başarılı',\n",
       "       'fiyatlar ortalamanın biraz ustunde malesef'], dtype=object)"
      ]
     },
     "execution_count": 35,
     "metadata": {},
     "output_type": "execute_result"
    }
   ],
   "source": [
    "phrases"
   ]
  },
  {
   "cell_type": "code",
   "execution_count": 28,
   "id": "d0fabd5e",
   "metadata": {
    "collapsed": true
   },
   "outputs": [
    {
     "data": {
      "application/vnd.jupyter.widget-view+json": {
       "model_id": "e4cb36d5edad4ee5b34fb895b23fb654",
       "version_major": 2,
       "version_minor": 0
      },
      "text/plain": [
       "Downloading (…)okenizer_config.json:   0%|          | 0.00/60.0 [00:00<?, ?B/s]"
      ]
     },
     "metadata": {},
     "output_type": "display_data"
    },
    {
     "name": "stderr",
     "output_type": "stream",
     "text": [
      "C:\\Users\\kdrcn\\AppData\\Roaming\\Python\\Python39\\site-packages\\huggingface_hub\\file_download.py:133: UserWarning: `huggingface_hub` cache-system uses symlinks by default to efficiently store duplicated files but your machine does not support them in C:\\Users\\kdrcn\\.cache\\huggingface\\hub. Caching files will still work but in a degraded version that might require more space on your disk. This warning can be disabled by setting the `HF_HUB_DISABLE_SYMLINKS_WARNING` environment variable. For more details, see https://huggingface.co/docs/huggingface_hub/how-to-cache#limitations.\n",
      "To support symlinks on Windows, you either need to activate Developer Mode or to run Python as an administrator. In order to see activate developer mode, see this article: https://docs.microsoft.com/en-us/windows/apps/get-started/enable-your-device-for-development\n",
      "  warnings.warn(message)\n"
     ]
    },
    {
     "data": {
      "application/vnd.jupyter.widget-view+json": {
       "model_id": "5258a31594a448fb9118653f93958af2",
       "version_major": 2,
       "version_minor": 0
      },
      "text/plain": [
       "Downloading (…)lve/main/config.json:   0%|          | 0.00/385 [00:00<?, ?B/s]"
      ]
     },
     "metadata": {},
     "output_type": "display_data"
    },
    {
     "data": {
      "application/vnd.jupyter.widget-view+json": {
       "model_id": "3e01895461df4ba7ae5517b61bc0226c",
       "version_major": 2,
       "version_minor": 0
      },
      "text/plain": [
       "Downloading (…)solve/main/vocab.txt:   0%|          | 0.00/251k [00:00<?, ?B/s]"
      ]
     },
     "metadata": {},
     "output_type": "display_data"
    }
   ],
   "source": [
    "from transformers import AutoTokenizer\n",
    "tokenizer = AutoTokenizer.from_pretrained(\"dbmdz/bert-base-turkish-cased\", do_lower_case=True)"
   ]
  },
  {
   "cell_type": "code",
   "execution_count": 32,
   "id": "6dc86412",
   "metadata": {},
   "outputs": [
    {
     "data": {
      "image/png": "[encoded data removed]",
      "text/plain": [
       "<Figure size 800x500 with 1 Axes>"
      ]
     },
     "metadata": {},
     "output_type": "display_data"
    }
   ],
   "source": [
    "import matplotlib.pyplot as plt\n",
    "def plot_sentence_embeddings_length(text_list, tokenizer):\n",
    "    tokenized_texts = list(map(lambda t: tokenizer.tokenize(t), text_list))\n",
    "    tokenized_texts_len = list(map(lambda t: len(t), tokenized_texts))\n",
    "    fig, ax = plt.subplots(figsize=(8, 5))\n",
    "    ax.hist(tokenized_texts_len, bins=40)\n",
    "    ax.set_xlabel(\"Length of Phrase Embeddings\");\n",
    "    ax.set_ylabel(\"Number of Phrases\");\n",
    "plot_sentence_embeddings_length(phrases, tokenizer)    "
   ]
  },
  {
   "cell_type": "code",
   "execution_count": 36,
   "id": "73e94ff6",
   "metadata": {},
   "outputs": [
    {
     "name": "stdout",
     "output_type": "stream",
     "text": [
      "[2, 13545, 6047, 2696, 7027, 4445, 12344, 10754, 3, 0, 0, 0, 0, 0, 0, 0, 0, 0, 0, 0, 0, 0, 0, 0, 0, 0, 0, 0, 0, 0, 0, 0, 0, 0, 0, 0, 0, 0, 0, 0, 0, 0, 0, 0, 0, 0, 0, 0, 0, 0, 0, 0, 0, 0, 0, 0, 0, 0, 0, 0, 0, 0, 0, 0, 0, 0, 0, 0, 0, 0, 0, 0, 0, 0, 0, 0, 0, 0, 0, 0, 0, 0, 0, 0, 0, 0, 0, 0, 0, 0, 0, 0, 0, 0, 0, 0, 0, 0, 0, 0, 0, 0, 0, 0, 0, 0, 0, 0, 0, 0, 0, 0, 0, 0, 0, 0, 0, 0, 0, 0, 0, 0, 0, 0, 0, 0, 0, 0]\n",
      "manzara sahane evet servis rezalet\n"
     ]
    }
   ],
   "source": [
    "indices = tokenizer.batch_encode_plus(list(phrases), \n",
    "                                      max_length=128, \n",
    "                                      add_special_tokens=True, \n",
    "                                      return_attention_mask=True, \n",
    "                                      pad_to_max_length=True, \n",
    "                                      truncation=True)\n",
    "input_ids = indices[\"input_ids\"]\n",
    "attention_masks = indices[\"attention_mask\"]\n",
    "print(input_ids[0])\n",
    "print(phrases[0])"
   ]
  },
  {
   "cell_type": "code",
   "execution_count": 37,
   "id": "cd8985bd",
   "metadata": {},
   "outputs": [],
   "source": [
    "from sklearn.model_selection import train_test_split\n",
    "\n",
    "train_inputs, validation_inputs, train_sentiments, validation_sentiments = train_test_split(input_ids, \n",
    "                                                                                            sentiments, \n",
    "                                                                                            random_state=42, \n",
    "                                                                                            test_size=0.2)\n",
    "train_masks, validation_masks, a, b = train_test_split(attention_masks, \n",
    "                                                       sentiments, \n",
    "                                                       random_state=42, \n",
    "                                                       test_size=0.2)"
   ]
  },
  {
   "cell_type": "code",
   "execution_count": 41,
   "id": "cabd9919",
   "metadata": {},
   "outputs": [
    {
     "ename": "TypeError",
     "evalue": "can't convert np.ndarray of type numpy.object_. The only supported types are: float64, float32, float16, complex64, complex128, int64, int32, int16, int8, uint8, and bool.",
     "output_type": "error",
     "traceback": [
      "\u001b[1;31m---------------------------------------------------------------------------\u001b[0m",
      "\u001b[1;31mTypeError\u001b[0m                                 Traceback (most recent call last)",
      "\u001b[1;32m~\\AppData\\Local\\Temp\\ipykernel_13160\\3621839458.py\u001b[0m in \u001b[0;36m<module>\u001b[1;34m\u001b[0m\n\u001b[0;32m      2\u001b[0m \u001b[0mtrain_inputs\u001b[0m \u001b[1;33m=\u001b[0m \u001b[0mtorch\u001b[0m\u001b[1;33m.\u001b[0m\u001b[0mtensor\u001b[0m\u001b[1;33m(\u001b[0m\u001b[0mtrain_inputs\u001b[0m\u001b[1;33m)\u001b[0m\u001b[1;33m\u001b[0m\u001b[1;33m\u001b[0m\u001b[0m\n\u001b[0;32m      3\u001b[0m \u001b[0mvalidation_inputs\u001b[0m \u001b[1;33m=\u001b[0m \u001b[0mtorch\u001b[0m\u001b[1;33m.\u001b[0m\u001b[0mtensor\u001b[0m\u001b[1;33m(\u001b[0m\u001b[0mvalidation_inputs\u001b[0m\u001b[1;33m)\u001b[0m\u001b[1;33m\u001b[0m\u001b[1;33m\u001b[0m\u001b[0m\n\u001b[1;32m----> 4\u001b[1;33m \u001b[0mtrain_sentiments\u001b[0m \u001b[1;33m=\u001b[0m \u001b[0mtorch\u001b[0m\u001b[1;33m.\u001b[0m\u001b[0mtensor\u001b[0m\u001b[1;33m(\u001b[0m\u001b[0mtrain_sentiments\u001b[0m\u001b[1;33m,\u001b[0m \u001b[0mdtype\u001b[0m\u001b[1;33m=\u001b[0m\u001b[0mtorch\u001b[0m\u001b[1;33m.\u001b[0m\u001b[0mlong\u001b[0m\u001b[1;33m)\u001b[0m\u001b[1;33m\u001b[0m\u001b[1;33m\u001b[0m\u001b[0m\n\u001b[0m\u001b[0;32m      5\u001b[0m \u001b[0mvalidation_sentiments\u001b[0m \u001b[1;33m=\u001b[0m \u001b[0mtorch\u001b[0m\u001b[1;33m.\u001b[0m\u001b[0mtensor\u001b[0m\u001b[1;33m(\u001b[0m\u001b[0mvalidation_sentiments\u001b[0m\u001b[1;33m,\u001b[0m \u001b[0mdtype\u001b[0m\u001b[1;33m=\u001b[0m\u001b[0mtorch\u001b[0m\u001b[1;33m.\u001b[0m\u001b[0mlong\u001b[0m\u001b[1;33m)\u001b[0m\u001b[1;33m\u001b[0m\u001b[1;33m\u001b[0m\u001b[0m\n\u001b[0;32m      6\u001b[0m \u001b[1;33m\u001b[0m\u001b[0m\n",
      "\u001b[1;31mTypeError\u001b[0m: can't convert np.ndarray of type numpy.object_. The only supported types are: float64, float32, float16, complex64, complex128, int64, int32, int16, int8, uint8, and bool."
     ]
    }
   ],
   "source": [
    "import torch\n",
    "train_inputs = torch.tensor(train_inputs)\n",
    "validation_inputs = torch.tensor(validation_inputs)\n",
    "train_sentiments = torch.tensor(train_sentiments, dtype=torch.long)\n",
    "validation_sentiments = torch.tensor(validation_sentiments, dtype=torch.long)\n",
    "\n",
    "train_masks = torch.tensor(train_masks, dtype=torch.long)\n",
    "validation_masks = torch.tensor(validation_masks, dtype=torch.long)"
   ]
  },
  {
   "cell_type": "code",
   "execution_count": null,
   "id": "fc4e3c46",
   "metadata": {},
   "outputs": [],
   "source": []
  }
 ],
 "metadata": {
  "kernelspec": {
   "display_name": "Python 3 (ipykernel)",
   "language": "python",
   "name": "python3"
  },
  "language_info": {
   "codemirror_mode": {
    "name": "ipython",
    "version": 3
   },
   "file_extension": ".py",
   "mimetype": "text/x-python",
   "name": "python",
   "nbconvert_exporter": "python",
   "pygments_lexer": "ipython3",
   "version": "3.9.13"
  }
 },
 "nbformat": 4,
 "nbformat_minor": 5
}
