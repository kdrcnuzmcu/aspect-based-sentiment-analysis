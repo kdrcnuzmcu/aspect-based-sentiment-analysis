{
 "cells": [
  {
   "cell_type": "code",
   "execution_count": 44,
   "id": "8ff18add",
   "metadata": {},
   "outputs": [],
   "source": [
    "import pandas as pd\n",
    "import re\n",
    "\n",
    "import nltk"
   ]
  },
  {
   "cell_type": "code",
   "execution_count": 68,
   "id": "8b13413d",
   "metadata": {
    "collapsed": true
   },
   "outputs": [
    {
     "name": "stderr",
     "output_type": "stream",
     "text": [
      "[nltk_data] Downloading package stopwords to\n",
      "[nltk_data]     C:\\Users\\kdrcn\\AppData\\Roaming\\nltk_data...\n",
      "[nltk_data]   Package stopwords is already up-to-date!\n",
      "[nltk_data] Downloading package wordnet to\n",
      "[nltk_data]     C:\\Users\\kdrcn\\AppData\\Roaming\\nltk_data...\n",
      "[nltk_data]   Package wordnet is already up-to-date!\n",
      "[nltk_data] Downloading package omw-1.4 to\n",
      "[nltk_data]     C:\\Users\\kdrcn\\AppData\\Roaming\\nltk_data...\n",
      "[nltk_data]   Package omw-1.4 is already up-to-date!\n",
      "[nltk_data] Downloading package punkt to\n",
      "[nltk_data]     C:\\Users\\kdrcn\\AppData\\Roaming\\nltk_data...\n",
      "[nltk_data]   Package punkt is already up-to-date!\n"
     ]
    },
    {
     "data": {
      "text/plain": [
       "True"
      ]
     },
     "execution_count": 68,
     "metadata": {},
     "output_type": "execute_result"
    }
   ],
   "source": [
    "nltk.download(\"stopwords\")\n",
    "nltk.download(\"wordnet\")\n",
    "nltk.download(\"omw-1.4\")\n",
    "nltk.download(\"punkt\")"
   ]
  },
  {
   "cell_type": "code",
   "execution_count": 2,
   "id": "b42d118f",
   "metadata": {},
   "outputs": [],
   "source": [
    "path = \"128.turkish/restaurants_train_turkish.xml.dat\""
   ]
  },
  {
   "cell_type": "code",
   "execution_count": 24,
   "id": "8734ac8d",
   "metadata": {},
   "outputs": [],
   "source": [
    "with open(path, \"r\", encoding=\"utf-8\") as file:\n",
    "    text = file.read()\n",
    "    file.close()\n",
    "data = pd.DataFrame({\"Text\": text.split(\"\\n\"), \"Tag\": \"Text\"})"
   ]
  },
  {
   "cell_type": "code",
   "execution_count": 25,
   "id": "45acdc05",
   "metadata": {},
   "outputs": [],
   "source": [
    "sentiment_index = data[data[\"Text\"].isin([\"Positive\", \"Negative\", \"Neutral\"])].index\n",
    "data.loc[sentiment_index, \"Tag\"] = \"Sentiment\"\n",
    "data.loc[sentiment_index-1, \"Tag\"] = \"Aspect\"\n",
    "df = pd.DataFrame({\"Phrase\": data[data[\"Tag\"] == \"Text\"][\"Text\"].reset_index(drop=True), \n",
    "                   \"Aspect\": data[data[\"Tag\"] == \"Aspect\"][\"Text\"].reset_index(drop=True), \n",
    "                   \"Sentiment\": data[data[\"Tag\"] == \"Sentiment\"][\"Text\"].reset_index(drop=True)})\n",
    "df = df.drop(1385, axis=0)"
   ]
  },
  {
   "cell_type": "code",
   "execution_count": 69,
   "id": "654f132b",
   "metadata": {
    "scrolled": true
   },
   "outputs": [
    {
     "data": {
      "text/html": [
       "<div>\n",
       "<style scoped>\n",
       "    .dataframe tbody tr th:only-of-type {\n",
       "        vertical-align: middle;\n",
       "    }\n",
       "\n",
       "    .dataframe tbody tr th {\n",
       "        vertical-align: top;\n",
       "    }\n",
       "\n",
       "    .dataframe thead th {\n",
       "        text-align: right;\n",
       "    }\n",
       "</style>\n",
       "<table border=\"1\" class=\"dataframe\">\n",
       "  <thead>\n",
       "    <tr style=\"text-align: right;\">\n",
       "      <th></th>\n",
       "      <th>Phrase</th>\n",
       "      <th>Aspect</th>\n",
       "      <th>Sentiment</th>\n",
       "    </tr>\n",
       "  </thead>\n",
       "  <tbody>\n",
       "    <tr>\n",
       "      <th>0</th>\n",
       "      <td>$T$ sahane evet ama servis rezalet.</td>\n",
       "      <td>Manzara</td>\n",
       "      <td>Positive</td>\n",
       "    </tr>\n",
       "    <tr>\n",
       "      <th>1</th>\n",
       "      <td>Manzara sahane evet ama $T$ rezalet.</td>\n",
       "      <td>servis</td>\n",
       "      <td>Negative</td>\n",
       "    </tr>\n",
       "    <tr>\n",
       "      <th>2</th>\n",
       "      <td>Soguk su isteyince, soguk yok, butun sulari di...</td>\n",
       "      <td>mezenin</td>\n",
       "      <td>Negative</td>\n",
       "    </tr>\n",
       "    <tr>\n",
       "      <th>3</th>\n",
       "      <td>Soguk su isteyince, soguk yok, butun sulari di...</td>\n",
       "      <td>garson</td>\n",
       "      <td>Negative</td>\n",
       "    </tr>\n",
       "    <tr>\n",
       "      <th>4</th>\n",
       "      <td>$T$ iyi hos, lezzetler iyi ama heyecan verici ...</td>\n",
       "      <td>Yemekler</td>\n",
       "      <td>Positive</td>\n",
       "    </tr>\n",
       "  </tbody>\n",
       "</table>\n",
       "</div>"
      ],
      "text/plain": [
       "                                              Phrase    Aspect Sentiment\n",
       "0                $T$ sahane evet ama servis rezalet.   Manzara  Positive\n",
       "1               Manzara sahane evet ama $T$ rezalet.    servis  Negative\n",
       "2  Soguk su isteyince, soguk yok, butun sulari di...   mezenin  Negative\n",
       "3  Soguk su isteyince, soguk yok, butun sulari di...    garson  Negative\n",
       "4  $T$ iyi hos, lezzetler iyi ama heyecan verici ...  Yemekler  Positive"
      ]
     },
     "execution_count": 69,
     "metadata": {},
     "output_type": "execute_result"
    }
   ],
   "source": [
    "df.head()"
   ]
  },
  {
   "cell_type": "code",
   "execution_count": 49,
   "id": "44e9b649",
   "metadata": {},
   "outputs": [],
   "source": [
    "train = df.copy()"
   ]
  },
  {
   "cell_type": "code",
   "execution_count": 70,
   "id": "eb6b27a7",
   "metadata": {},
   "outputs": [
    {
     "data": {
      "text/html": [
       "<div>\n",
       "<style scoped>\n",
       "    .dataframe tbody tr th:only-of-type {\n",
       "        vertical-align: middle;\n",
       "    }\n",
       "\n",
       "    .dataframe tbody tr th {\n",
       "        vertical-align: top;\n",
       "    }\n",
       "\n",
       "    .dataframe thead th {\n",
       "        text-align: right;\n",
       "    }\n",
       "</style>\n",
       "<table border=\"1\" class=\"dataframe\">\n",
       "  <thead>\n",
       "    <tr style=\"text-align: right;\">\n",
       "      <th></th>\n",
       "      <th>Phrase</th>\n",
       "      <th>Aspect</th>\n",
       "      <th>Sentiment</th>\n",
       "    </tr>\n",
       "  </thead>\n",
       "  <tbody>\n",
       "    <tr>\n",
       "      <th>0</th>\n",
       "      <td>t sahane evet servis rezalet</td>\n",
       "      <td>manzara</td>\n",
       "      <td>Positive</td>\n",
       "    </tr>\n",
       "    <tr>\n",
       "      <th>1</th>\n",
       "      <td>manzara sahane evet t rezalet</td>\n",
       "      <td>servis</td>\n",
       "      <td>Negative</td>\n",
       "    </tr>\n",
       "    <tr>\n",
       "      <th>2</th>\n",
       "      <td>soguk su isteyince soguk yok butun sulari disa...</td>\n",
       "      <td>mezenin</td>\n",
       "      <td>Negative</td>\n",
       "    </tr>\n",
       "    <tr>\n",
       "      <th>3</th>\n",
       "      <td>soguk su isteyince soguk yok butun sulari disa...</td>\n",
       "      <td>garson</td>\n",
       "      <td>Negative</td>\n",
       "    </tr>\n",
       "    <tr>\n",
       "      <th>4</th>\n",
       "      <td>t iyi ho lezzetler iyi heyecan verici bi taraf...</td>\n",
       "      <td>yemekler</td>\n",
       "      <td>Positive</td>\n",
       "    </tr>\n",
       "  </tbody>\n",
       "</table>\n",
       "</div>"
      ],
      "text/plain": [
       "                                              Phrase    Aspect Sentiment\n",
       "0                       t sahane evet servis rezalet   manzara  Positive\n",
       "1                      manzara sahane evet t rezalet    servis  Negative\n",
       "2  soguk su isteyince soguk yok butun sulari disa...   mezenin  Negative\n",
       "3  soguk su isteyince soguk yok butun sulari disa...    garson  Negative\n",
       "4  t iyi ho lezzetler iyi heyecan verici bi taraf...  yemekler  Positive"
      ]
     },
     "execution_count": 70,
     "metadata": {},
     "output_type": "execute_result"
    }
   ],
   "source": [
    "train.head()"
   ]
  },
  {
   "cell_type": "code",
   "execution_count": null,
   "id": "031ae647",
   "metadata": {},
   "outputs": [],
   "source": [
    "from nltk.corpus import stopwords\n",
    "from textblob import Word\n",
    "\n",
    "sw = set(stopwords.words(\"turkish\"))"
   ]
  },
  {
   "cell_type": "code",
   "execution_count": 50,
   "id": "2aef1f8e",
   "metadata": {},
   "outputs": [],
   "source": [
    "train[\"Phrase\"] = train[\"Phrase\"].apply(lambda x: \" \".join(x.lower() for x in x.split()))\n",
    "train[\"Aspect\"] = train[\"Aspect\"].apply(lambda x: \" \".join(x.lower() for x in x.split()))\n",
    "\n",
    "train[\"Phrase\"] = train[\"Phrase\"].apply(lambda x: \" \".join(re.sub(\"[^\\w\\s]\", \"\", x) for x in x.split()))\n",
    "train[\"Aspect\"] = train[\"Aspect\"].apply(lambda x: \" \".join(re.sub(\"[^\\w\\s]\", \"\", x) for x in x.split()))\n",
    "\n",
    "train[\"Phrase\"] = train[\"Phrase\"].apply(lambda x: \" \".join(re.sub(\"\\d\", \"\", x) for x in x.split()))\n",
    "train[\"Aspect\"] = train[\"Aspect\"].apply(lambda x: \" \".join(re.sub(\"\\d\", \"\", x) for x in x.split()))\n",
    "\n",
    "train[\"Phrase\"] = train[\"Phrase\"].apply(lambda x: \" \".join(x for x in x.split() if x not in sw))\n",
    "\n",
    "train[\"Phrase\"] = train[\"Phrase\"].apply(lambda x: \" \".join([Word(word).lemmatize() for word in x.split()]))"
   ]
  },
  {
   "cell_type": "code",
   "execution_count": 67,
   "id": "ab5f7b05",
   "metadata": {},
   "outputs": [
    {
     "data": {
      "text/plain": [
       "Kelimeler    \n",
       "$T$              1217\n",
       "bir               467\n",
       "ve                362\n",
       "çok               266\n",
       "ama               171\n",
       "                 ... \n",
       "içerdeki            1\n",
       "içeride             1\n",
       "içerisi             1\n",
       "içi,cumartesi       1\n",
       "😎                   1\n",
       "Length: 4230, dtype: int64"
      ]
     },
     "execution_count": 67,
     "metadata": {},
     "output_type": "execute_result"
    }
   ],
   "source": [
    "pd.DataFrame(\" \".join(df[\"Phrase\"]).split(), columns=[\"Kelimeler\"]).value_counts()"
   ]
  },
  {
   "cell_type": "code",
   "execution_count": null,
   "id": "808e36ac",
   "metadata": {},
   "outputs": [],
   "source": []
  }
 ],
 "metadata": {
  "kernelspec": {
   "display_name": "Python 3 (ipykernel)",
   "language": "python",
   "name": "python3"
  },
  "language_info": {
   "codemirror_mode": {
    "name": "ipython",
    "version": 3
   },
   "file_extension": ".py",
   "mimetype": "text/x-python",
   "name": "python",
   "nbconvert_exporter": "python",
   "pygments_lexer": "ipython3",
   "version": "3.9.13"
  }
 },
 "nbformat": 4,
 "nbformat_minor": 5
}
