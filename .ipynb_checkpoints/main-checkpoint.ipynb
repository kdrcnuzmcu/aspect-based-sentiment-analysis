{
 "cells": [
  {
   "cell_type": "code",
   "execution_count": 11,
   "id": "8ff18add",
   "metadata": {},
   "outputs": [],
   "source": [
    "import pandas as pd\n",
    "import re\n",
    "import nltk\n",
    "from textblob import TextBlob\n",
    "from nltk.corpus import stopwords\n",
    "from textblob import Word\n",
    "\n",
    "import os\n",
    "import sys"
   ]
  },
  {
   "cell_type": "markdown",
   "id": "50dbe03e",
   "metadata": {},
   "source": [
    "---"
   ]
  },
  {
   "cell_type": "code",
   "execution_count": 17,
   "id": "4e49e44b",
   "metadata": {},
   "outputs": [
    {
     "ename": "ModuleNotFoundError",
     "evalue": "No module named 'Corpus'",
     "output_type": "error",
     "traceback": [
      "\u001b[1;31m---------------------------------------------------------------------------\u001b[0m",
      "\u001b[1;31mModuleNotFoundError\u001b[0m                       Traceback (most recent call last)",
      "\u001b[1;32m~\\AppData\\Local\\Temp\\ipykernel_16332\\650173550.py\u001b[0m in \u001b[0;36m<module>\u001b[1;34m\u001b[0m\n\u001b[0;32m      3\u001b[0m     \u001b[0msys\u001b[0m\u001b[1;33m.\u001b[0m\u001b[0mpath\u001b[0m\u001b[1;33m.\u001b[0m\u001b[0mappend\u001b[0m\u001b[1;33m(\u001b[0m\u001b[0mmodule_path\u001b[0m\u001b[1;33m)\u001b[0m\u001b[1;33m\u001b[0m\u001b[1;33m\u001b[0m\u001b[0m\n\u001b[0;32m      4\u001b[0m \u001b[1;33m\u001b[0m\u001b[0m\n\u001b[1;32m----> 5\u001b[1;33m \u001b[1;32mfrom\u001b[0m \u001b[0mSimpleSpellChecker\u001b[0m \u001b[1;32mimport\u001b[0m \u001b[0mFsmMorphologicalAnalyzer\u001b[0m\u001b[1;33m\u001b[0m\u001b[1;33m\u001b[0m\u001b[0m\n\u001b[0m\u001b[0;32m      6\u001b[0m \u001b[1;31m# from project1.lib.module import function\u001b[0m\u001b[1;33m\u001b[0m\u001b[1;33m\u001b[0m\u001b[0m\n",
      "\u001b[1;32m~\\OneDrive\\Masaüstü\\Py\\SpellCorrector\\TurkishSpellChecker-Py\\SpellChecker\\SimpleSpellChecker.py\u001b[0m in \u001b[0;36m<module>\u001b[1;34m\u001b[0m\n\u001b[0;32m      4\u001b[0m \u001b[1;33m\u001b[0m\u001b[0m\n\u001b[0;32m      5\u001b[0m \u001b[1;32mimport\u001b[0m \u001b[0mpkg_resources\u001b[0m\u001b[1;33m\u001b[0m\u001b[1;33m\u001b[0m\u001b[0m\n\u001b[1;32m----> 6\u001b[1;33m \u001b[1;32mfrom\u001b[0m \u001b[0mCorpus\u001b[0m\u001b[1;33m.\u001b[0m\u001b[0mSentence\u001b[0m \u001b[1;32mimport\u001b[0m \u001b[0mSentence\u001b[0m\u001b[1;33m\u001b[0m\u001b[1;33m\u001b[0m\u001b[0m\n\u001b[0m\u001b[0;32m      7\u001b[0m \u001b[1;32mfrom\u001b[0m \u001b[0mDictionary\u001b[0m\u001b[1;33m.\u001b[0m\u001b[0mTxtWord\u001b[0m \u001b[1;32mimport\u001b[0m \u001b[0mTxtWord\u001b[0m\u001b[1;33m\u001b[0m\u001b[1;33m\u001b[0m\u001b[0m\n\u001b[0;32m      8\u001b[0m \u001b[1;32mfrom\u001b[0m \u001b[0mDictionary\u001b[0m\u001b[1;33m.\u001b[0m\u001b[0mWord\u001b[0m \u001b[1;32mimport\u001b[0m \u001b[0mWord\u001b[0m\u001b[1;33m\u001b[0m\u001b[1;33m\u001b[0m\u001b[0m\n",
      "\u001b[1;31mModuleNotFoundError\u001b[0m: No module named 'Corpus'"
     ]
    }
   ],
   "source": [
    "module_path = os.path.abspath(os.path.join(r'C:\\Users\\kdrcn\\OneDrive\\Masaüstü\\Py\\SpellCorrector\\TurkishSpellChecker-Py\\SpellChecker\\SimpleSpellChecker.py'))\n",
    "if module_path not in sys.path:\n",
    "    sys.path.append(module_path)\n",
    "  \n",
    "from SimpleSpellChecker import FsmMorphologicalAnalyzer\n",
    "# from project1.lib.module import function"
   ]
  },
  {
   "cell_type": "code",
   "execution_count": 2,
   "id": "c833ae59",
   "metadata": {},
   "outputs": [],
   "source": [
    "sw = set(stopwords.words(\"turkish\"))"
   ]
  },
  {
   "cell_type": "code",
   "execution_count": 3,
   "id": "307c97dc",
   "metadata": {
    "collapsed": true
   },
   "outputs": [
    {
     "name": "stderr",
     "output_type": "stream",
     "text": [
      "C:\\Users\\kdrcn\\AppData\\Local\\Temp\\ipykernel_16332\\2475433900.py:1: FutureWarning: Passing a negative integer is deprecated in version 1.0 and will not be supported in future version. Instead, use None to not limit the column width.\n",
      "  pd.set_option(\"display.max_colwidth\", -1)\n"
     ]
    }
   ],
   "source": [
    "pd.set_option(\"display.max_colwidth\", -1)"
   ]
  },
  {
   "cell_type": "code",
   "execution_count": null,
   "id": "8b13413d",
   "metadata": {},
   "outputs": [],
   "source": [
    "nltk.download(\"stopwords\")\n",
    "nltk.download(\"wordnet\")\n",
    "nltk.download(\"omw-1.4\")\n",
    "nltk.download(\"punkt\")"
   ]
  },
  {
   "cell_type": "code",
   "execution_count": 4,
   "id": "b42d118f",
   "metadata": {},
   "outputs": [],
   "source": [
    "path = \"128.turkish/restaurants_train_turkish.xml.dat\""
   ]
  },
  {
   "cell_type": "markdown",
   "id": "4f0b00ac",
   "metadata": {},
   "source": [
    "---"
   ]
  },
  {
   "cell_type": "code",
   "execution_count": 5,
   "id": "8734ac8d",
   "metadata": {},
   "outputs": [],
   "source": [
    "with open(path, \"r\", encoding=\"utf-8\") as file:\n",
    "    text = file.read()\n",
    "    file.close()\n",
    "data = pd.DataFrame({\"Text\": text.split(\"\\n\"), \"Tag\": \"Text\"})"
   ]
  },
  {
   "cell_type": "code",
   "execution_count": 6,
   "id": "45acdc05",
   "metadata": {},
   "outputs": [],
   "source": [
    "sentiment_index = data[data[\"Text\"].isin([\"Positive\", \"Negative\", \"Neutral\"])].index\n",
    "data.loc[sentiment_index, \"Tag\"] = \"Sentiment\"\n",
    "data.loc[sentiment_index-1, \"Tag\"] = \"Aspect\"\n",
    "df = pd.DataFrame({\"Phrase\": data[data[\"Tag\"] == \"Text\"][\"Text\"].reset_index(drop=True), \n",
    "                   \"Aspect\": data[data[\"Tag\"] == \"Aspect\"][\"Text\"].reset_index(drop=True), \n",
    "                   \"Sentiment\": data[data[\"Tag\"] == \"Sentiment\"][\"Text\"].reset_index(drop=True)})\n",
    "df = df.drop(1385, axis=0)"
   ]
  },
  {
   "cell_type": "code",
   "execution_count": 5,
   "id": "654f132b",
   "metadata": {},
   "outputs": [
    {
     "data": {
      "text/html": [
       "<div>\n",
       "<style scoped>\n",
       "    .dataframe tbody tr th:only-of-type {\n",
       "        vertical-align: middle;\n",
       "    }\n",
       "\n",
       "    .dataframe tbody tr th {\n",
       "        vertical-align: top;\n",
       "    }\n",
       "\n",
       "    .dataframe thead th {\n",
       "        text-align: right;\n",
       "    }\n",
       "</style>\n",
       "<table border=\"1\" class=\"dataframe\">\n",
       "  <thead>\n",
       "    <tr style=\"text-align: right;\">\n",
       "      <th></th>\n",
       "      <th>Phrase</th>\n",
       "      <th>Aspect</th>\n",
       "      <th>Sentiment</th>\n",
       "    </tr>\n",
       "  </thead>\n",
       "  <tbody>\n",
       "    <tr>\n",
       "      <th>0</th>\n",
       "      <td>$T$ sahane evet ama servis rezalet.</td>\n",
       "      <td>Manzara</td>\n",
       "      <td>Positive</td>\n",
       "    </tr>\n",
       "    <tr>\n",
       "      <th>1</th>\n",
       "      <td>Manzara sahane evet ama $T$ rezalet.</td>\n",
       "      <td>servis</td>\n",
       "      <td>Negative</td>\n",
       "    </tr>\n",
       "    <tr>\n",
       "      <th>2</th>\n",
       "      <td>Soguk su isteyince, soguk yok, butun sulari di...</td>\n",
       "      <td>mezenin</td>\n",
       "      <td>Negative</td>\n",
       "    </tr>\n",
       "    <tr>\n",
       "      <th>3</th>\n",
       "      <td>Soguk su isteyince, soguk yok, butun sulari di...</td>\n",
       "      <td>garson</td>\n",
       "      <td>Negative</td>\n",
       "    </tr>\n",
       "    <tr>\n",
       "      <th>4</th>\n",
       "      <td>$T$ iyi hos, lezzetler iyi ama heyecan verici ...</td>\n",
       "      <td>Yemekler</td>\n",
       "      <td>Positive</td>\n",
       "    </tr>\n",
       "  </tbody>\n",
       "</table>\n",
       "</div>"
      ],
      "text/plain": [
       "                                              Phrase    Aspect Sentiment\n",
       "0                $T$ sahane evet ama servis rezalet.   Manzara  Positive\n",
       "1               Manzara sahane evet ama $T$ rezalet.    servis  Negative\n",
       "2  Soguk su isteyince, soguk yok, butun sulari di...   mezenin  Negative\n",
       "3  Soguk su isteyince, soguk yok, butun sulari di...    garson  Negative\n",
       "4  $T$ iyi hos, lezzetler iyi ama heyecan verici ...  Yemekler  Positive"
      ]
     },
     "execution_count": 5,
     "metadata": {},
     "output_type": "execute_result"
    }
   ],
   "source": [
    "df.head()"
   ]
  },
  {
   "cell_type": "markdown",
   "id": "30f70448",
   "metadata": {},
   "source": [
    "---"
   ]
  },
  {
   "cell_type": "code",
   "execution_count": 7,
   "id": "44e9b649",
   "metadata": {},
   "outputs": [],
   "source": [
    "train = df.copy()"
   ]
  },
  {
   "cell_type": "code",
   "execution_count": 8,
   "id": "8f3e78b0",
   "metadata": {},
   "outputs": [],
   "source": [
    "for index, row in train.iterrows():\n",
    "    words = TextBlob(row[\"Phrase\"]).words\n",
    "    aspect = words.index(\"T\")\n",
    "    words[aspect] = row[\"Aspect\"]\n",
    "    row[\"Phrase\"] = \" \".join(words)"
   ]
  },
  {
   "cell_type": "code",
   "execution_count": 43,
   "id": "eb6b27a7",
   "metadata": {},
   "outputs": [
    {
     "data": {
      "text/html": [
       "<div>\n",
       "<style scoped>\n",
       "    .dataframe tbody tr th:only-of-type {\n",
       "        vertical-align: middle;\n",
       "    }\n",
       "\n",
       "    .dataframe tbody tr th {\n",
       "        vertical-align: top;\n",
       "    }\n",
       "\n",
       "    .dataframe thead th {\n",
       "        text-align: right;\n",
       "    }\n",
       "</style>\n",
       "<table border=\"1\" class=\"dataframe\">\n",
       "  <thead>\n",
       "    <tr style=\"text-align: right;\">\n",
       "      <th></th>\n",
       "      <th>Phrase</th>\n",
       "      <th>Aspect</th>\n",
       "      <th>Sentiment</th>\n",
       "    </tr>\n",
       "  </thead>\n",
       "  <tbody>\n",
       "    <tr>\n",
       "      <th>0</th>\n",
       "      <td>manzara sahane evet servis rezalet</td>\n",
       "      <td>manzara</td>\n",
       "      <td>Positive</td>\n",
       "    </tr>\n",
       "    <tr>\n",
       "      <th>1</th>\n",
       "      <td>manzara sahane evet servis rezalet</td>\n",
       "      <td>servis</td>\n",
       "      <td>Negative</td>\n",
       "    </tr>\n",
       "    <tr>\n",
       "      <th>2</th>\n",
       "      <td>soguk su isteyince soguk yok butun sulari disari cikardik diyen garson siparisten tam saat sonra gelen yemekler yemegin yaninda soylenen roka pureden eser olmamasi istedigimiz mezenin kalmamis olmasi</td>\n",
       "      <td>mezenin</td>\n",
       "      <td>Negative</td>\n",
       "    </tr>\n",
       "    <tr>\n",
       "      <th>3</th>\n",
       "      <td>soguk su isteyince soguk yok butun sulari disari cikardik diyen garson siparisten tam saat sonra gelen yemekler yemegin yaninda soylenen roka pureden eser olmamasi istedigimiz mezenin kalmamis olmasi</td>\n",
       "      <td>garson</td>\n",
       "      <td>Negative</td>\n",
       "    </tr>\n",
       "    <tr>\n",
       "      <th>4</th>\n",
       "      <td>yemekler iyi hos lezzetler iyi heyecan verici bi taraflari yok iyi bir baligi iyi bir sekilde izgara yapmak artik atla deve bi olay degil</td>\n",
       "      <td>yemekler</td>\n",
       "      <td>Positive</td>\n",
       "    </tr>\n",
       "    <tr>\n",
       "      <th>5</th>\n",
       "      <td>yemekler iyi hos lezzetler iyi heyecan verici bi taraflari yok iyi bir baligi iyi bir sekilde izgara yapmak artik atla deve bi olay degil</td>\n",
       "      <td>lezzetler</td>\n",
       "      <td>Positive</td>\n",
       "    </tr>\n",
       "    <tr>\n",
       "      <th>6</th>\n",
       "      <td>servise fiyatlar cok fazla</td>\n",
       "      <td>fiyatlar</td>\n",
       "      <td>Negative</td>\n",
       "    </tr>\n",
       "    <tr>\n",
       "      <th>7</th>\n",
       "      <td>lacivert beni kalitesinin dusukluguyle cok sasirtti</td>\n",
       "      <td>kalitesinin</td>\n",
       "      <td>Negative</td>\n",
       "    </tr>\n",
       "    <tr>\n",
       "      <th>8</th>\n",
       "      <td>buraya kadar iyi yorum yapanlar halde önce balik yemediler</td>\n",
       "      <td>balik</td>\n",
       "      <td>Negative</td>\n",
       "    </tr>\n",
       "    <tr>\n",
       "      <th>9</th>\n",
       "      <td>kalamardan koladan önce balik geldi apar topar önümüze atildi</td>\n",
       "      <td>balik geldi</td>\n",
       "      <td>Negative</td>\n",
       "    </tr>\n",
       "  </tbody>\n",
       "</table>\n",
       "</div>"
      ],
      "text/plain": [
       "                                                                                                                                                                                                    Phrase  \\\n",
       "0  manzara sahane evet servis rezalet                                                                                                                                                                        \n",
       "1  manzara sahane evet servis rezalet                                                                                                                                                                        \n",
       "2  soguk su isteyince soguk yok butun sulari disari cikardik diyen garson siparisten tam saat sonra gelen yemekler yemegin yaninda soylenen roka pureden eser olmamasi istedigimiz mezenin kalmamis olmasi   \n",
       "3  soguk su isteyince soguk yok butun sulari disari cikardik diyen garson siparisten tam saat sonra gelen yemekler yemegin yaninda soylenen roka pureden eser olmamasi istedigimiz mezenin kalmamis olmasi   \n",
       "4  yemekler iyi hos lezzetler iyi heyecan verici bi taraflari yok iyi bir baligi iyi bir sekilde izgara yapmak artik atla deve bi olay degil                                                                 \n",
       "5  yemekler iyi hos lezzetler iyi heyecan verici bi taraflari yok iyi bir baligi iyi bir sekilde izgara yapmak artik atla deve bi olay degil                                                                 \n",
       "6  servise fiyatlar cok fazla                                                                                                                                                                                \n",
       "7  lacivert beni kalitesinin dusukluguyle cok sasirtti                                                                                                                                                       \n",
       "8  buraya kadar iyi yorum yapanlar halde önce balik yemediler                                                                                                                                                \n",
       "9  kalamardan koladan önce balik geldi apar topar önümüze atildi                                                                                                                                             \n",
       "\n",
       "        Aspect Sentiment  \n",
       "0  manzara      Positive  \n",
       "1  servis       Negative  \n",
       "2  mezenin      Negative  \n",
       "3  garson       Negative  \n",
       "4  yemekler     Positive  \n",
       "5  lezzetler    Positive  \n",
       "6  fiyatlar     Negative  \n",
       "7  kalitesinin  Negative  \n",
       "8  balik        Negative  \n",
       "9  balik geldi  Negative  "
      ]
     },
     "execution_count": 43,
     "metadata": {},
     "output_type": "execute_result"
    }
   ],
   "source": [
    "train.head(10)"
   ]
  },
  {
   "cell_type": "code",
   "execution_count": 9,
   "id": "2aef1f8e",
   "metadata": {},
   "outputs": [],
   "source": [
    "train[\"Phrase\"] = train[\"Phrase\"].apply(lambda x: \" \".join(x.lower() for x in x.split()))\n",
    "train[\"Aspect\"] = train[\"Aspect\"].apply(lambda x: \" \".join(x.lower() for x in x.split()))\n",
    "\n",
    "train[\"Phrase\"] = train[\"Phrase\"].apply(lambda x: \" \".join(re.sub(\"[^\\w\\s]\", \"\", x) for x in x.split()))\n",
    "train[\"Aspect\"] = train[\"Aspect\"].apply(lambda x: \" \".join(re.sub(\"[^\\w\\s]\", \"\", x) for x in x.split()))\n",
    "\n",
    "train[\"Phrase\"] = train[\"Phrase\"].apply(lambda x: \" \".join(re.sub(\"\\d\", \"\", x) for x in x.split()))\n",
    "train[\"Aspect\"] = train[\"Aspect\"].apply(lambda x: \" \".join(re.sub(\"\\d\", \"\", x) for x in x.split()))\n",
    "\n",
    "# train[\"Phrase\"] = train[\"Phrase\"].apply(lambda x: \" \".join(x for x in x.split() if x not in sw))\n",
    "\n",
    "# train[\"Phrase\"] = train[\"Phrase\"].apply(lambda x: \" \".join([Word(word).lemmatize() for word in x.split()]))"
   ]
  },
  {
   "cell_type": "code",
   "execution_count": 15,
   "id": "99b02293",
   "metadata": {},
   "outputs": [
    {
     "ename": "NameError",
     "evalue": "name 'FsmMorphologicalAnalyzer' is not defined",
     "output_type": "error",
     "traceback": [
      "\u001b[1;31m---------------------------------------------------------------------------\u001b[0m",
      "\u001b[1;31mNameError\u001b[0m                                 Traceback (most recent call last)",
      "\u001b[1;32m~\\AppData\\Local\\Temp\\ipykernel_16332\\516289144.py\u001b[0m in \u001b[0;36m<module>\u001b[1;34m\u001b[0m\n\u001b[1;32m----> 1\u001b[1;33m \u001b[0mfsm\u001b[0m \u001b[1;33m=\u001b[0m \u001b[0mFsmMorphologicalAnalyzer\u001b[0m\u001b[1;33m(\u001b[0m\u001b[1;33m)\u001b[0m\u001b[1;33m\u001b[0m\u001b[1;33m\u001b[0m\u001b[0m\n\u001b[0m\u001b[0;32m      2\u001b[0m \u001b[0mspellChecker\u001b[0m \u001b[1;33m=\u001b[0m \u001b[0mSimpleSpellChecker\u001b[0m\u001b[1;33m(\u001b[0m\u001b[0mfsm\u001b[0m\u001b[1;33m)\u001b[0m\u001b[1;33m\u001b[0m\u001b[1;33m\u001b[0m\u001b[0m\n",
      "\u001b[1;31mNameError\u001b[0m: name 'FsmMorphologicalAnalyzer' is not defined"
     ]
    }
   ],
   "source": [
    "  fsm = FsmMorphologicalAnalyzer()\n",
    "  spellChecker = SimpleSpellChecker(fsm)   "
   ]
  },
  {
   "cell_type": "code",
   "execution_count": null,
   "id": "6df19558",
   "metadata": {},
   "outputs": [],
   "source": []
  }
 ],
 "metadata": {
  "kernelspec": {
   "display_name": "Python 3 (ipykernel)",
   "language": "python",
   "name": "python3"
  },
  "language_info": {
   "codemirror_mode": {
    "name": "ipython",
    "version": 3
   },
   "file_extension": ".py",
   "mimetype": "text/x-python",
   "name": "python",
   "nbconvert_exporter": "python",
   "pygments_lexer": "ipython3",
   "version": "3.9.13"
  }
 },
 "nbformat": 4,
 "nbformat_minor": 5
}
